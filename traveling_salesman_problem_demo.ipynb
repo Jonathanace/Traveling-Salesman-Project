{
  "cells": [
    {
      "cell_type": "markdown",
      "metadata": {
        "id": "view-in-github",
        "colab_type": "text"
      },
      "source": [
        "<a href=\"https://colab.research.google.com/github/Jonathanace/Traveling-Salesman-Project/blob/main/traveling_salesman_problem_demo.ipynb\" target=\"_parent\"><img src=\"https://colab.research.google.com/assets/colab-badge.svg\" alt=\"Open In Colab\"/></a>"
      ]
    },
    {
      "cell_type": "markdown",
      "metadata": {
        "id": "GWHApe5MpLqC"
      },
      "source": [
        "# TODO\n",
        "\n",
        "- Turn Hash map into defaultdict of dictionaries to decrease lookup time."
      ]
    },
    {
      "cell_type": "markdown",
      "metadata": {
        "id": "xqHQ1AX6_gE3"
      },
      "source": [
        "# Implementation of [this video](https://www.youtube.com/watch?v=GiDsjIBOVoA&t=489s)."
      ]
    },
    {
      "cell_type": "markdown",
      "metadata": {
        "id": "KVjcwE3IMeYK"
      },
      "source": [
        "# Imports"
      ]
    },
    {
      "cell_type": "code",
      "execution_count": null,
      "metadata": {
        "id": "P0KIWNwDzO_L"
      },
      "outputs": [],
      "source": [
        "# imports\n",
        "import numpy as np\n",
        "import pandas as pd\n",
        "import matplotlib.pyplot as plt"
      ]
    },
    {
      "cell_type": "markdown",
      "metadata": {
        "id": "oaOAQDAczCUr"
      },
      "source": [
        "# Generate Data\n",
        "\n",
        "1. Coordinates have an x and y value, between 0 and 100.\n",
        "2. The number of coordinates in the dataset is equal to \"num_destinations\"."
      ]
    },
    {
      "cell_type": "code",
      "execution_count": null,
      "metadata": {
        "id": "sLCZ-0rdIhha"
      },
      "outputs": [],
      "source": [
        "num_destinations = 45 # set number of destinations"
      ]
    },
    {
      "cell_type": "code",
      "execution_count": null,
      "metadata": {
        "colab": {
          "base_uri": "https://localhost:8080/",
          "height": 468
        },
        "id": "Pt7L9uv1Rqd2",
        "outputId": "c15c8d21-8041-4b5d-9961-4ec839c9cf5f"
      },
      "outputs": [
        {
          "output_type": "execute_result",
          "data": {
            "text/plain": [
              "           X          Y\n",
              "0  77.787232  15.615083\n",
              "1  41.279034  68.880283\n",
              "2   6.941181  55.754557\n",
              "3  57.743958  62.573228\n",
              "4  48.291919  39.475446"
            ],
            "text/html": [
              "\n",
              "  <div id=\"df-23ad2742-d0c5-40a9-8ad7-02e788181b49\">\n",
              "    <div class=\"colab-df-container\">\n",
              "      <div>\n",
              "<style scoped>\n",
              "    .dataframe tbody tr th:only-of-type {\n",
              "        vertical-align: middle;\n",
              "    }\n",
              "\n",
              "    .dataframe tbody tr th {\n",
              "        vertical-align: top;\n",
              "    }\n",
              "\n",
              "    .dataframe thead th {\n",
              "        text-align: right;\n",
              "    }\n",
              "</style>\n",
              "<table border=\"1\" class=\"dataframe\">\n",
              "  <thead>\n",
              "    <tr style=\"text-align: right;\">\n",
              "      <th></th>\n",
              "      <th>X</th>\n",
              "      <th>Y</th>\n",
              "    </tr>\n",
              "  </thead>\n",
              "  <tbody>\n",
              "    <tr>\n",
              "      <th>0</th>\n",
              "      <td>77.787232</td>\n",
              "      <td>15.615083</td>\n",
              "    </tr>\n",
              "    <tr>\n",
              "      <th>1</th>\n",
              "      <td>41.279034</td>\n",
              "      <td>68.880283</td>\n",
              "    </tr>\n",
              "    <tr>\n",
              "      <th>2</th>\n",
              "      <td>6.941181</td>\n",
              "      <td>55.754557</td>\n",
              "    </tr>\n",
              "    <tr>\n",
              "      <th>3</th>\n",
              "      <td>57.743958</td>\n",
              "      <td>62.573228</td>\n",
              "    </tr>\n",
              "    <tr>\n",
              "      <th>4</th>\n",
              "      <td>48.291919</td>\n",
              "      <td>39.475446</td>\n",
              "    </tr>\n",
              "  </tbody>\n",
              "</table>\n",
              "</div>\n",
              "      <button class=\"colab-df-convert\" onclick=\"convertToInteractive('df-23ad2742-d0c5-40a9-8ad7-02e788181b49')\"\n",
              "              title=\"Convert this dataframe to an interactive table.\"\n",
              "              style=\"display:none;\">\n",
              "        \n",
              "  <svg xmlns=\"http://www.w3.org/2000/svg\" height=\"24px\"viewBox=\"0 0 24 24\"\n",
              "       width=\"24px\">\n",
              "    <path d=\"M0 0h24v24H0V0z\" fill=\"none\"/>\n",
              "    <path d=\"M18.56 5.44l.94 2.06.94-2.06 2.06-.94-2.06-.94-.94-2.06-.94 2.06-2.06.94zm-11 1L8.5 8.5l.94-2.06 2.06-.94-2.06-.94L8.5 2.5l-.94 2.06-2.06.94zm10 10l.94 2.06.94-2.06 2.06-.94-2.06-.94-.94-2.06-.94 2.06-2.06.94z\"/><path d=\"M17.41 7.96l-1.37-1.37c-.4-.4-.92-.59-1.43-.59-.52 0-1.04.2-1.43.59L10.3 9.45l-7.72 7.72c-.78.78-.78 2.05 0 2.83L4 21.41c.39.39.9.59 1.41.59.51 0 1.02-.2 1.41-.59l7.78-7.78 2.81-2.81c.8-.78.8-2.07 0-2.86zM5.41 20L4 18.59l7.72-7.72 1.47 1.35L5.41 20z\"/>\n",
              "  </svg>\n",
              "      </button>\n",
              "      \n",
              "  <style>\n",
              "    .colab-df-container {\n",
              "      display:flex;\n",
              "      flex-wrap:wrap;\n",
              "      gap: 12px;\n",
              "    }\n",
              "\n",
              "    .colab-df-convert {\n",
              "      background-color: #E8F0FE;\n",
              "      border: none;\n",
              "      border-radius: 50%;\n",
              "      cursor: pointer;\n",
              "      display: none;\n",
              "      fill: #1967D2;\n",
              "      height: 32px;\n",
              "      padding: 0 0 0 0;\n",
              "      width: 32px;\n",
              "    }\n",
              "\n",
              "    .colab-df-convert:hover {\n",
              "      background-color: #E2EBFA;\n",
              "      box-shadow: 0px 1px 2px rgba(60, 64, 67, 0.3), 0px 1px 3px 1px rgba(60, 64, 67, 0.15);\n",
              "      fill: #174EA6;\n",
              "    }\n",
              "\n",
              "    [theme=dark] .colab-df-convert {\n",
              "      background-color: #3B4455;\n",
              "      fill: #D2E3FC;\n",
              "    }\n",
              "\n",
              "    [theme=dark] .colab-df-convert:hover {\n",
              "      background-color: #434B5C;\n",
              "      box-shadow: 0px 1px 3px 1px rgba(0, 0, 0, 0.15);\n",
              "      filter: drop-shadow(0px 1px 2px rgba(0, 0, 0, 0.3));\n",
              "      fill: #FFFFFF;\n",
              "    }\n",
              "  </style>\n",
              "\n",
              "      <script>\n",
              "        const buttonEl =\n",
              "          document.querySelector('#df-23ad2742-d0c5-40a9-8ad7-02e788181b49 button.colab-df-convert');\n",
              "        buttonEl.style.display =\n",
              "          google.colab.kernel.accessAllowed ? 'block' : 'none';\n",
              "\n",
              "        async function convertToInteractive(key) {\n",
              "          const element = document.querySelector('#df-23ad2742-d0c5-40a9-8ad7-02e788181b49');\n",
              "          const dataTable =\n",
              "            await google.colab.kernel.invokeFunction('convertToInteractive',\n",
              "                                                     [key], {});\n",
              "          if (!dataTable) return;\n",
              "\n",
              "          const docLinkHtml = 'Like what you see? Visit the ' +\n",
              "            '<a target=\"_blank\" href=https://colab.research.google.com/notebooks/data_table.ipynb>data table notebook</a>'\n",
              "            + ' to learn more about interactive tables.';\n",
              "          element.innerHTML = '';\n",
              "          dataTable['output_type'] = 'display_data';\n",
              "          await google.colab.output.renderOutput(dataTable, element);\n",
              "          const docLink = document.createElement('div');\n",
              "          docLink.innerHTML = docLinkHtml;\n",
              "          element.appendChild(docLink);\n",
              "        }\n",
              "      </script>\n",
              "    </div>\n",
              "  </div>\n",
              "  "
            ]
          },
          "metadata": {},
          "execution_count": 36
        },
        {
          "output_type": "display_data",
          "data": {
            "text/plain": [
              "<Figure size 432x288 with 1 Axes>"
            ],
            "image/png": "[encoded data removed]"
          },
          "metadata": {
            "needs_background": "light"
          }
        }
      ],
      "source": [
        "# generate data\n",
        "data = pd.DataFrame(np.random.random_sample(size=(num_destinations, 2)) * 100, columns=['X', 'Y']) \n",
        "\n",
        "# visualize data in scatterplot\n",
        "fig, ax = plt.subplots()\n",
        "data.plot('X', 'Y', kind='scatter', ax=ax)\n",
        "for k, v in data.iterrows():\n",
        "    ax.annotate(k, v)\n",
        "\n",
        "# show table of data \n",
        "data.head()"
      ]
    },
    {
      "cell_type": "code",
      "execution_count": null,
      "metadata": {
        "id": "kIyhrQTQ22Z8"
      },
      "outputs": [],
      "source": [
        "data.head"
      ]
    },
    {
      "cell_type": "markdown",
      "metadata": {
        "id": "ADg3FVbDPRvg"
      },
      "source": [
        "# Estimate Lower Bound by finding the 1-Tree Lower Bound\n",
        "1. Find the minimum spanning tree using [Prim's Algorithm](https://en.wikipedia.org/wiki/Prim%27s_algorithm).\n",
        "2. Choose a random vertex in the MST. Delete all edges connected to that vertex, and add edges connecting that vertex to the two closest vertices. This creates a 1-tree. This 1-tree is a guaranteed lower bounnd on the TSP.\n",
        "3. Repeat this process for every vertex. Find the maximum-distance 1-tree that can be generated this way. This is the best (maximal) lower bound we can calculate for the TSP using this method. \n",
        "\n",
        "*Note: On average, the optimal TSP solution's distance will be approximately 1.25 times the 1-tree lower bound.*\n",
        "\n",
        "Todo:\n",
        "* So far only MST Lower bound has been found. Need to implement 1-tree lower bound. If possible, do so without re-calculating the MST for every missing vertex. Maybe could recalculate MST for vertices with degree > 1, and use the simple, greedy solution with degree < 1?"
      ]
    },
    {
      "cell_type": "markdown",
      "metadata": {
        "id": "QNXAjgsxL7ZJ"
      },
      "source": [
        "# Find MST using Prim's Algorithm\n",
        "\n",
        "Todo:\n",
        "* Store vertex data to later calculate 1-tree after MST is found."
      ]
    },
    {
      "cell_type": "code",
      "execution_count": null,
      "metadata": {
        "colab": {
          "base_uri": "https://localhost:8080/"
        },
        "id": "a5EwJGZPPTz0",
        "outputId": "a8315faf-45b6-4ba2-f225-1407b4619f7d"
      },
      "outputs": [
        {
          "output_type": "stream",
          "name": "stdout",
          "text": [
            "Done!\n"
          ]
        }
      ],
      "source": [
        "# imports\n",
        "from collections import defaultdict\n",
        "from math import sqrt\n",
        "\n",
        "# Construct a dictionary containing distances from each vertex to each other vertex\n",
        "d = defaultdict(list) # dictionary containing distances // change this to (M, T)\n",
        "prevs = set() # set containing all previously visited vertices\n",
        "for index, coordinate in data.iterrows(): # iterate through all vertices\n",
        "  x, y = coordinate[0], coordinate[1] \n",
        "  for prev_index, prev_x, prev_y in prevs: # find distance from current vertex to all previously visited vertices\n",
        "    distance = sqrt(abs(x-prev_x)**2 + abs(y-prev_y)**2) # calculate euclidian distance\n",
        "\n",
        "    # store distance data\n",
        "    d[prev_index].append((index, distance))\n",
        "    d[index].append((prev_index, distance))\n",
        "    d[(prev_index, index)].append(distance)\n",
        "    d[(index, prev_index)].append(distance)\n",
        "\n",
        "  prevs.add((index, x, y)) # add current vertex to set of previously visited vertices\n",
        "print('Done!')"
      ]
    },
    {
      "cell_type": "code",
      "execution_count": null,
      "metadata": {
        "colab": {
          "base_uri": "https://localhost:8080/"
        },
        "id": "si3GPb9lvtpx",
        "outputId": "175a54e1-8c80-43d0-8d77-bf6651fc7174"
      },
      "outputs": [
        {
          "output_type": "stream",
          "name": "stdout",
          "text": [
            "465.40656527809546 [[0, 43], [15, 43], [15, 31], [20, 43], [20, 41], [8, 20], [0, 6], [6, 42], [18, 42], [18, 44], [10, 44], [30, 44], [7, 30], [5, 30], [5, 28], [27, 28], [28, 39], [27, 38], [26, 38], [25, 38], [10, 35], [4, 10], [21, 31], [3, 21], [21, 32], [32, 40], [23, 40], [16, 40], [16, 37], [12, 16], [12, 29], [17, 29], [34, 37], [1, 3], [1, 24], [1, 36], [14, 23], [9, 36], [9, 13], [13, 33], [11, 33], [2, 11], [2, 22], [19, 22]] {1, 4, 7, 8, 10, 14, 16, 17, 19, 20, 21, 24, 25, 26, 28, 30, 34, 35, 38, 39, 40, 41, 43, 44}\n"
          ]
        }
      ],
      "source": [
        "# Greedily find the minimum spanning tree using Prim's Algorithm\n",
        "visited = {0} # stores all previously visited vertices\n",
        "unvisited = set([i for i in range(num_destinations)]) - visited # stores all unvisited vertices\n",
        "odd_nodes = set() # stores all nodes with odd degree\n",
        "total_distance = 0 # stores the total distance in the MST\n",
        "edges = []\n",
        "\n",
        "while unvisited:\n",
        "  min_distance = float('inf')\n",
        "  starting_location = next_destination = None\n",
        "\n",
        "  # find lowest weight next destination from starting destination within set of previously visited vertices\n",
        "  for start_vertex in visited:\n",
        "    for end_vertex, distance in d[start_vertex]:\n",
        "      if end_vertex in unvisited and distance < min_distance:\n",
        "        min_distance = distance\n",
        "        next_destination = end_vertex\n",
        "        starting_location = start_vertex\n",
        "\n",
        "  # update visited set, unvisited set, and total distance\n",
        "  total_distance += min_distance\n",
        "  unvisited.remove(next_destination)\n",
        "  visited.add(next_destination)\n",
        "  edges.append(sorted((starting_location, next_destination)))\n",
        "\n",
        "  # update odd vertex set\n",
        "  for location in starting_location, next_destination:\n",
        "    if location in odd_nodes:\n",
        "      odd_nodes.remove(location)\n",
        "    elif location not in odd_nodes:\n",
        "      odd_nodes.add(location)\n",
        "\n",
        "print(total_distance, edges, odd_nodes)"
      ]
    },
    {
      "cell_type": "markdown",
      "metadata": {
        "id": "RnUlJnPlMlu7"
      },
      "source": [
        "# Find 1-Tree Lower Bound (Todo)\n"
      ]
    },
    {
      "cell_type": "markdown",
      "metadata": {
        "id": "DyVvlAsXGvQY"
      },
      "source": [
        "# Generate Optimal TSP Using Christofides Algorithm"
      ]
    },
    {
      "cell_type": "code",
      "execution_count": null,
      "metadata": {
        "id": "P-EFG3KuMS7L"
      },
      "outputs": [],
      "source": [
        "# define function to generate all perfect pair matchings for odd degree nodes\n",
        "def find_pairs(l):\n",
        "  if len(l) < 2:\n",
        "    yield []\n",
        "    return\n",
        "\n",
        "  a = l[0]\n",
        "  for i in range(1, len(l)):\n",
        "    pair = (a, l[i])\n",
        "    for rest in find_pairs(l[1:i]+l[i+1:]):\n",
        "      yield [pair] + rest"
      ]
    },
    {
      "cell_type": "code",
      "execution_count": null,
      "metadata": {
        "id": "-YQQ3SXj65tw"
      },
      "outputs": [],
      "source": [
        "# generate pairs for odd degree nodes:\n",
        "perfect_matching_span = float('inf')\n",
        "perfect_matching = None\n",
        "for matching in find_pairs(list(odd_nodes)):\n",
        "  matching_span = sum([d[pair][0] for pair in matching])\n",
        "  if matching_span < perfect_matching_span:\n",
        "    perfect_matching_span = matching_span\n",
        "    perfect_matching = matching"
      ]
    },
    {
      "cell_type": "markdown",
      "metadata": {
        "id": "QLgcyG2MKYPs"
      },
      "source": [
        "# Generate Eulerian Tour Using Hierholzer's Algorithm"
      ]
    },
    {
      "cell_type": "code",
      "execution_count": null,
      "metadata": {
        "id": "ykrj_MRZ7CvE"
      },
      "outputs": [],
      "source": [
        "# Hierholzer's algorithm\n",
        "eulerian_tour = []\n",
        "\n",
        "final_nodes = defaultdict(list)\n",
        "\n",
        "unvisited_nodes = set([i for i in range(num_destinations)])\n",
        "for edge in edges + perfect_matching:\n",
        "  # print(edge)\n",
        "  n1, n2 = edge\n",
        "  final_nodes[n1].append(n2)\n",
        "  final_nodes[n2].append(n1)\n",
        "'''\n",
        "print()\n",
        "\n",
        "for node in final_nodes.keys():\n",
        "  print(node, final_nodes[node])\n",
        "'''\n",
        "\n",
        "cur_node = 0\n",
        "\n",
        "# generate initial tour\n",
        "while final_nodes[cur_node]:\n",
        "  eulerian_tour.append(cur_node) # add cur node to final tour\n",
        "  # visited_nodes.add(cur_node) # add cur node to visited nodes \n",
        "  if cur_node in unvisited_nodes:\n",
        "    unvisited_nodes.remove(cur_node)\n",
        "\n",
        "  # update cur node\n",
        "  prev_node = cur_node\n",
        "  cur_node = final_nodes[cur_node].pop(0)\n",
        "  final_nodes[cur_node].remove(prev_node)\n",
        "  # print(prev_node, cur_node)\n",
        "\n",
        "\n",
        "for node in final_nodes.keys():\n",
        "  print(node, final_nodes[node])\n",
        "print(eulerian_tour, unvisited_nodes)\n",
        "\n",
        "\n",
        "# create sub-tours to add all unvisited nodes to main tour\n",
        "while unvisited_nodes:\n",
        "  \n",
        "  # rotate eulerian tour until \"end\" node includes an edge to an unvisited node\n",
        "  while not final_nodes[eulerian_tour[-1]]:\n",
        "    eulerian_tour.insert(0, eulerian_tour.pop(-1))\n",
        "\n",
        "  # Generate a tour, starting from that node, visiting random edges, until the tour ends back at the starting node. Add this tour to the final tour.\n",
        "  prev_node = eulerian_tour[-1]\n",
        "  cur_node = final_nodes[prev_node].pop()\n",
        "  final_nodes[cur_node].remove(prev_node)\n",
        "\n",
        "  while final_nodes[cur_node]:\n",
        "    eulerian_tour.append(cur_node)\n",
        "    if cur_node in unvisited_nodes:\n",
        "      unvisited_nodes.remove(cur_node)\n",
        "    prev_node = cur_node\n",
        "    cur_node = final_nodes[cur_node].pop(0)\n",
        "    final_nodes[cur_node].remove(prev_node)\n",
        "\n",
        "\n",
        "print()\n",
        "for node in final_nodes.keys():\n",
        "  print(node, final_nodes[node])\n",
        "print(eulerian_tour, unvisited_nodes)\n",
        "\n",
        "final_tour_length = 0\n",
        "final_tour = [eulerian_tour[0]]\n",
        "prev_nodes = {eulerian_tour[0]}\n",
        "for i in range(1, len(eulerian_tour)):\n",
        "  node = eulerian_tour[i]\n",
        "  if node not in prev_nodes:\n",
        "    final_tour.append(node)\n",
        "    prev_nodes.add(node)\n",
        "    final_tour_length += d[(node, eulerian_tour[i-1])][0]\n",
        "\n",
        "print(final_tour)"
      ]
    },
    {
      "cell_type": "code",
      "execution_count": null,
      "metadata": {
        "id": "2-HXTOPQaB4A"
      },
      "outputs": [],
      "source": [
        "print(f'MST lower bound: {total_distance}')\n",
        "print(f'final tour length: {final_tour_length}')"
      ]
    },
    {
      "cell_type": "code",
      "execution_count": null,
      "metadata": {
        "id": "s52MJorohOYV"
      },
      "outputs": [],
      "source": [
        "raise Exception(\"All current code finished executing\")"
      ]
    },
    {
      "cell_type": "markdown",
      "metadata": {
        "id": "cvlTQrEGGkM7"
      },
      "source": [
        "# OLD CODE\n"
      ]
    },
    {
      "cell_type": "code",
      "execution_count": null,
      "metadata": {
        "id": "q3FWrT_LYUlZ"
      },
      "outputs": [],
      "source": [
        "# for each vertex, create a minimum spanning tree excluding that vertex. Then, connect the two shortest verteices from the excluded vertex to that vertex. Record the total distance of the resulting 1-tree. \n",
        "walks = []\n",
        "# first pass, exclude vertex 0, start at vertex 1\n",
        "total_distance = 0\n",
        "excluded_vertex = 0\n",
        "visited = {1}\n",
        "unvisited_set = set(list(d.keys()))\n",
        "unvisited = unvisited_set - visited - {excluded_vertex}\n",
        "next_destination = None\n",
        "while unvisited:\n",
        "  min_distance = float('inf')\n",
        "  for vertex in visited:\n",
        "    for destination, distance in d[vertex]:\n",
        "      if destination in unvisited and destination != excluded_vertex and distance < min_distance:\n",
        "        min_distance = distance\n",
        "        next_destination = destination\n",
        "  total_distance += min_distance\n",
        "  unvisited.remove(next_destination)\n",
        "  visited.add(next_destination)\n",
        "total_distance += sum(sorted([i[1] for i in d[1]])[:2])\n",
        "max_distance = total_distance\n",
        "print(total_distance)\n",
        "print('Done!')\n",
        "walks.append(total_distance)"
      ]
    },
    {
      "cell_type": "code",
      "execution_count": null,
      "metadata": {
        "id": "I-Hrf1ETtBMv"
      },
      "outputs": [],
      "source": [
        "# make a set of odd vertices. If a vertex is used and it isn't in the set, add it to the set. Otherwise, if it's already in the set, remove it from the set. "
      ]
    },
    {
      "cell_type": "code",
      "execution_count": null,
      "metadata": {
        "id": "SJoc4rNadJCM"
      },
      "outputs": [],
      "source": [
        "# repeat above for the rest of the vertices, always using 0 as the starting point for the 1-tree. \n",
        "for excluded_vertex in range(1, num_destinations):\n",
        "  total_distance = 0\n",
        "  visited = {0}\n",
        "  unvisited = unvisited_set - visited - {excluded_vertex}\n",
        "  next_destination = None\n",
        "  while unvisited:\n",
        "    min_distance = float('inf')\n",
        "    for vertex in visited:\n",
        "      for destination, distance in d[vertex]:\n",
        "        if destination in unvisited and destination != excluded_vertex and distance < min_distance:\n",
        "          min_distance = distance\n",
        "          next_destination = destination\n",
        "    total_distance += min_distance\n",
        "    unvisited.remove(next_destination)\n",
        "    visited.add(next_destination)\n",
        "  total_distance += sum(sorted([i[1] for i in d[0]])[:2])\n",
        "  max_distance = max(max_distance, total_distance)\n",
        "  walks.append(total_distance)\n",
        "  print(f'Distance for walk excluding vertex {excluded_vertex}: {total_distance}. Max distance: {max_distance}.')\n",
        "print('Done!')\n",
        "print(walks)"
      ]
    },
    {
      "cell_type": "code",
      "execution_count": null,
      "metadata": {
        "id": "x9YJMiFmkOHL"
      },
      "outputs": [],
      "source": [
        "print(f'{max_distance} is an absolute lower bound for the TSP. The best TSP will be roughly 1.25x that value, which in this case is {max_distance * 1.25}')"
      ]
    },
    {
      "cell_type": "markdown",
      "metadata": {
        "id": "hbsjCCgEpYlx"
      },
      "source": [
        "Since there is a unique MST, we can just go through each node of that MST to find the 1-tree for that node instead of calculating the MST each time. "
      ]
    },
    {
      "cell_type": "code",
      "execution_count": null,
      "metadata": {
        "id": "DXDx4V_lG0G2"
      },
      "outputs": [],
      "source": []
    },
    {
      "cell_type": "markdown",
      "metadata": {
        "id": "fs3qM-QEp9W5"
      },
      "source": [
        "Overall Steps:\n",
        "1. Hash the distance from each node to each other node.\n",
        "2. Use Prim's Algorithm to store the minimum spanning tree. Store this tree for later. \n",
        "3. For each node in the MST, find the minimum weight 1-tree starting from that node. The maximum of these 1-trees is a lower bound for the optimal TSP. \n",
        "4. Take the MST, then use Christofides Algorithm to find a suitably optimal TSP solution. \n",
        "  1. Find MST of graph T using **Prim's Algorithm**\n",
        "  **Christofedes Algorithm**\n",
        "  2. Isolate set of odd vertices S\n",
        "  3. Find min weight perfect matching M of S using **FKT Algorithm** (maybe blossom algorithm)\n",
        "  4. Combine T and M into multigraph G\n",
        "  5. Find **Eulerian tour** of G\n",
        "  6. Generate TSP from Eulerian tour\n",
        "\n"
      ]
    },
    {
      "cell_type": "markdown",
      "source": [
        "# Sources \n",
        "- https://medium.com/@yusufaksoyeng/finding-the-eulerian-cycle-with-hierholzers-algorithm-f60bb773db3c\n"
      ],
      "metadata": {
        "id": "g0oqOSn4XabY"
      }
    }
  ],
  "metadata": {
    "colab": {
      "collapsed_sections": [
        "KVjcwE3IMeYK",
        "cvlTQrEGGkM7"
      ],
      "provenance": [],
      "authorship_tag": "ABX9TyPVSLI2tjevcobji8DG5XgM",
      "include_colab_link": true
    },
    "kernelspec": {
      "display_name": "Python 3",
      "name": "python3"
    },
    "language_info": {
      "name": "python"
    }
  },
  "nbformat": 4,
  "nbformat_minor": 0
}